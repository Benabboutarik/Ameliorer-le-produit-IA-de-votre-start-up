{
 "cells": [
  {
   "cell_type": "markdown",
   "id": "0dfed98b",
   "metadata": {},
   "source": [
    "# API Yelp"
   ]
  },
  {
   "cell_type": "code",
   "execution_count": 10,
   "id": "d906ea6c",
   "metadata": {},
   "outputs": [],
   "source": [
    "import requests\n",
    "import os\n",
    "import pandas as pd\n",
    "from dotenv import load_dotenv"
   ]
  },
  {
   "cell_type": "code",
   "execution_count": 12,
   "id": "7b9973c7",
   "metadata": {},
   "outputs": [],
   "source": [
    "load_dotenv()\n",
    "# Récupérer les valeurs des variables d'environnement pour l'authentification\n",
    "api_key =  \"Bearer \" + os.getenv(\"Yelp_key\")\n",
    "\n",
    "endpoint = \"https://api.yelp.com/v3/businesses\"\n",
    "path_search = \"/search\"\n",
    "path_reviews = \"/reviews\""
   ]
  },
  {
   "cell_type": "markdown",
   "id": "bc28e5e2",
   "metadata": {},
   "source": [
    "## Les id  et les avis des restaurants"
   ]
  },
  {
   "cell_type": "code",
   "execution_count": 38,
   "id": "2dfa0f1e",
   "metadata": {},
   "outputs": [],
   "source": [
    "# Requête pour récupérer les id de restaurants\n",
    "def businesses_request(city):\n",
    "    outputs = []\n",
    "    constructed_url = endpoint + path_search\n",
    "    headers = {'Authorization': api_key}\n",
    "\n",
    "    for ofs in range(0, 200, 50):\n",
    "\n",
    "        query = {'categories': 'restaurants', 'location': city, 'offset': ofs, 'limit':50}\n",
    "\n",
    "        response = requests.get(constructed_url, params=query, headers=headers)\n",
    "\n",
    "        if response.status_code == 200:\n",
    "            data = response.json()\n",
    "\n",
    "            for business in data['businesses']:\n",
    "                outputs.append(business)\n",
    "    print('number of businesses', len(outputs))\n",
    "    return outputs"
   ]
  },
  {
   "cell_type": "code",
   "execution_count": 39,
   "id": "1906fbb6",
   "metadata": {},
   "outputs": [
    {
     "name": "stdout",
     "output_type": "stream",
     "text": [
      "number of businesses 200\n",
      "{'id': '-0iLH7iQNYtoURciDpJf6w', 'alias': 'le-comptoir-de-la-gastronomie-paris', 'name': 'Le Comptoir de la Gastronomie', 'image_url': 'https://s3-media2.fl.yelpcdn.com/bphoto/czh2IEUeT5FnYko4QgUP8A/o.jpg', 'is_closed': False, 'url': 'https://www.yelp.com/biz/le-comptoir-de-la-gastronomie-paris?adjust_creative=L5NZ4_Fxx4GNgWW1ELo-sQ&utm_campaign=yelp_api_v3&utm_medium=api_v3_business_search&utm_source=L5NZ4_Fxx4GNgWW1ELo-sQ', 'review_count': 1163, 'categories': [{'alias': 'french', 'title': 'French'}], 'rating': 4.5, 'coordinates': {'latitude': 48.8645157999652, 'longitude': 2.34540185646608}, 'transactions': [], 'price': '€€', 'location': {'address1': '34 rue Montmartre', 'address2': '', 'address3': '', 'city': 'Paris', 'zip_code': '75001', 'country': 'FR', 'state': '75', 'display_address': ['34 rue Montmartre', '75001 Paris', 'France']}, 'phone': '+33142333132', 'display_phone': '+33 1 42 33 31 32', 'distance': 370.8275165771047}\n"
     ]
    }
   ],
   "source": [
    "businesses = businesses_request(city='Paris')\n",
    "print(businesses[0])"
   ]
  },
  {
   "cell_type": "code",
   "execution_count": 41,
   "id": "bb713f7e",
   "metadata": {},
   "outputs": [],
   "source": [
    "# Requête pour récupérer les reviews des restaurants\n",
    "def reviews_request(businesses):\n",
    "    outputs = []\n",
    "    headers = {'Authorization': api_key}\n",
    "  \n",
    "    for business in businesses:\n",
    "        constructed_url = endpoint + f\"/{business['id']}\" + path_reviews\n",
    "        response = requests.get(constructed_url, headers=headers)\n",
    "\n",
    "        if response.status_code == 200:\n",
    "            data = response.json()\n",
    "\n",
    "            for review in data['reviews']:\n",
    "                outputs.append([\n",
    "                    business['id'], \n",
    "                    business['name'], \n",
    "                     'Restaurants', \n",
    "                     review['id'], \n",
    "                     review['rating'], \n",
    "                     review['text'].replace('\\n', ' ')])\n",
    "    print('number of reviews', len(outputs))\n",
    "    return outputs"
   ]
  },
  {
   "cell_type": "code",
   "execution_count": 42,
   "id": "29a22615",
   "metadata": {},
   "outputs": [
    {
     "name": "stdout",
     "output_type": "stream",
     "text": [
      "number of reviews 600\n",
      "['-0iLH7iQNYtoURciDpJf6w', 'Le Comptoir de la Gastronomie', 'Restaurants', 'pTbFq-jfZRlkP_2ZjQeYNQ', 5, \"I fell in love with French onion soup because of Panera. Back then, I only had $20 in cash, and I'd go to the Trumbull Mall with my friends in high school...\"]\n"
     ]
    }
   ],
   "source": [
    "reviews = reviews_request(businesses)\n",
    "print(reviews[0])"
   ]
  },
  {
   "cell_type": "code",
   "execution_count": 43,
   "id": "e4937e30",
   "metadata": {},
   "outputs": [],
   "source": [
    "df = pd.DataFrame(data=reviews, columns=[\n",
    "    'business_id',\n",
    "    'business_name',\n",
    "    'categories',\n",
    "    'review_id',\n",
    "    'stars',\n",
    "    'text'])\n",
    "\n",
    "df.to_csv('paris_reviews.csv', index=False)"
   ]
  },
  {
   "cell_type": "code",
   "execution_count": 44,
   "id": "3e56fc34",
   "metadata": {},
   "outputs": [
    {
     "data": {
      "text/html": [
       "<div>\n",
       "<style scoped>\n",
       "    .dataframe tbody tr th:only-of-type {\n",
       "        vertical-align: middle;\n",
       "    }\n",
       "\n",
       "    .dataframe tbody tr th {\n",
       "        vertical-align: top;\n",
       "    }\n",
       "\n",
       "    .dataframe thead th {\n",
       "        text-align: right;\n",
       "    }\n",
       "</style>\n",
       "<table border=\"1\" class=\"dataframe\">\n",
       "  <thead>\n",
       "    <tr style=\"text-align: right;\">\n",
       "      <th></th>\n",
       "      <th>business_id</th>\n",
       "      <th>business_name</th>\n",
       "      <th>categories</th>\n",
       "      <th>review_id</th>\n",
       "      <th>stars</th>\n",
       "      <th>text</th>\n",
       "    </tr>\n",
       "  </thead>\n",
       "  <tbody>\n",
       "    <tr>\n",
       "      <th>0</th>\n",
       "      <td>-0iLH7iQNYtoURciDpJf6w</td>\n",
       "      <td>Le Comptoir de la Gastronomie</td>\n",
       "      <td>Restaurants</td>\n",
       "      <td>pTbFq-jfZRlkP_2ZjQeYNQ</td>\n",
       "      <td>5</td>\n",
       "      <td>I fell in love with French onion soup because ...</td>\n",
       "    </tr>\n",
       "    <tr>\n",
       "      <th>1</th>\n",
       "      <td>-0iLH7iQNYtoURciDpJf6w</td>\n",
       "      <td>Le Comptoir de la Gastronomie</td>\n",
       "      <td>Restaurants</td>\n",
       "      <td>zi9OVQcGzeHJ6_T6jRrwkQ</td>\n",
       "      <td>5</td>\n",
       "      <td>If you like all things duck, then this is your...</td>\n",
       "    </tr>\n",
       "    <tr>\n",
       "      <th>2</th>\n",
       "      <td>-0iLH7iQNYtoURciDpJf6w</td>\n",
       "      <td>Le Comptoir de la Gastronomie</td>\n",
       "      <td>Restaurants</td>\n",
       "      <td>ZwzpceATTrUM7Brv90_usg</td>\n",
       "      <td>5</td>\n",
       "      <td>If you like foie gras and duck, then you will ...</td>\n",
       "    </tr>\n",
       "    <tr>\n",
       "      <th>3</th>\n",
       "      <td>FFz-WusZrBYZexKqhqzCkg</td>\n",
       "      <td>L'As du Fallafel</td>\n",
       "      <td>Restaurants</td>\n",
       "      <td>bUWPuqCtUDkGV2jwawAlqQ</td>\n",
       "      <td>5</td>\n",
       "      <td>This little gem is our go to spot when visitin...</td>\n",
       "    </tr>\n",
       "    <tr>\n",
       "      <th>4</th>\n",
       "      <td>FFz-WusZrBYZexKqhqzCkg</td>\n",
       "      <td>L'As du Fallafel</td>\n",
       "      <td>Restaurants</td>\n",
       "      <td>xdN-zosusXBS0z5ak7O9jg</td>\n",
       "      <td>4</td>\n",
       "      <td>Great spot for a meal on the go that ends up b...</td>\n",
       "    </tr>\n",
       "  </tbody>\n",
       "</table>\n",
       "</div>"
      ],
      "text/plain": [
       "              business_id                  business_name   categories  \\\n",
       "0  -0iLH7iQNYtoURciDpJf6w  Le Comptoir de la Gastronomie  Restaurants   \n",
       "1  -0iLH7iQNYtoURciDpJf6w  Le Comptoir de la Gastronomie  Restaurants   \n",
       "2  -0iLH7iQNYtoURciDpJf6w  Le Comptoir de la Gastronomie  Restaurants   \n",
       "3  FFz-WusZrBYZexKqhqzCkg               L'As du Fallafel  Restaurants   \n",
       "4  FFz-WusZrBYZexKqhqzCkg               L'As du Fallafel  Restaurants   \n",
       "\n",
       "                review_id  stars  \\\n",
       "0  pTbFq-jfZRlkP_2ZjQeYNQ      5   \n",
       "1  zi9OVQcGzeHJ6_T6jRrwkQ      5   \n",
       "2  ZwzpceATTrUM7Brv90_usg      5   \n",
       "3  bUWPuqCtUDkGV2jwawAlqQ      5   \n",
       "4  xdN-zosusXBS0z5ak7O9jg      4   \n",
       "\n",
       "                                                text  \n",
       "0  I fell in love with French onion soup because ...  \n",
       "1  If you like all things duck, then this is your...  \n",
       "2  If you like foie gras and duck, then you will ...  \n",
       "3  This little gem is our go to spot when visitin...  \n",
       "4  Great spot for a meal on the go that ends up b...  "
      ]
     },
     "execution_count": 44,
     "metadata": {},
     "output_type": "execute_result"
    }
   ],
   "source": [
    "df.head()"
   ]
  },
  {
   "cell_type": "code",
   "execution_count": 45,
   "id": "312a3e33",
   "metadata": {},
   "outputs": [
    {
     "data": {
      "text/html": [
       "<div>\n",
       "<style scoped>\n",
       "    .dataframe tbody tr th:only-of-type {\n",
       "        vertical-align: middle;\n",
       "    }\n",
       "\n",
       "    .dataframe tbody tr th {\n",
       "        vertical-align: top;\n",
       "    }\n",
       "\n",
       "    .dataframe thead th {\n",
       "        text-align: right;\n",
       "    }\n",
       "</style>\n",
       "<table border=\"1\" class=\"dataframe\">\n",
       "  <thead>\n",
       "    <tr style=\"text-align: right;\">\n",
       "      <th></th>\n",
       "      <th>business_id</th>\n",
       "      <th>business_name</th>\n",
       "      <th>categories</th>\n",
       "      <th>review_id</th>\n",
       "      <th>stars</th>\n",
       "      <th>text</th>\n",
       "    </tr>\n",
       "  </thead>\n",
       "  <tbody>\n",
       "    <tr>\n",
       "      <th>0</th>\n",
       "      <td>-0iLH7iQNYtoURciDpJf6w</td>\n",
       "      <td>Le Comptoir de la Gastronomie</td>\n",
       "      <td>Restaurants</td>\n",
       "      <td>pTbFq-jfZRlkP_2ZjQeYNQ</td>\n",
       "      <td>5</td>\n",
       "      <td>I fell in love with French onion soup because ...</td>\n",
       "    </tr>\n",
       "    <tr>\n",
       "      <th>1</th>\n",
       "      <td>-0iLH7iQNYtoURciDpJf6w</td>\n",
       "      <td>Le Comptoir de la Gastronomie</td>\n",
       "      <td>Restaurants</td>\n",
       "      <td>zi9OVQcGzeHJ6_T6jRrwkQ</td>\n",
       "      <td>5</td>\n",
       "      <td>If you like all things duck, then this is your...</td>\n",
       "    </tr>\n",
       "    <tr>\n",
       "      <th>2</th>\n",
       "      <td>-0iLH7iQNYtoURciDpJf6w</td>\n",
       "      <td>Le Comptoir de la Gastronomie</td>\n",
       "      <td>Restaurants</td>\n",
       "      <td>ZwzpceATTrUM7Brv90_usg</td>\n",
       "      <td>5</td>\n",
       "      <td>If you like foie gras and duck, then you will ...</td>\n",
       "    </tr>\n",
       "    <tr>\n",
       "      <th>3</th>\n",
       "      <td>FFz-WusZrBYZexKqhqzCkg</td>\n",
       "      <td>L'As du Fallafel</td>\n",
       "      <td>Restaurants</td>\n",
       "      <td>bUWPuqCtUDkGV2jwawAlqQ</td>\n",
       "      <td>5</td>\n",
       "      <td>This little gem is our go to spot when visitin...</td>\n",
       "    </tr>\n",
       "    <tr>\n",
       "      <th>4</th>\n",
       "      <td>FFz-WusZrBYZexKqhqzCkg</td>\n",
       "      <td>L'As du Fallafel</td>\n",
       "      <td>Restaurants</td>\n",
       "      <td>xdN-zosusXBS0z5ak7O9jg</td>\n",
       "      <td>4</td>\n",
       "      <td>Great spot for a meal on the go that ends up b...</td>\n",
       "    </tr>\n",
       "  </tbody>\n",
       "</table>\n",
       "</div>"
      ],
      "text/plain": [
       "              business_id                  business_name   categories  \\\n",
       "0  -0iLH7iQNYtoURciDpJf6w  Le Comptoir de la Gastronomie  Restaurants   \n",
       "1  -0iLH7iQNYtoURciDpJf6w  Le Comptoir de la Gastronomie  Restaurants   \n",
       "2  -0iLH7iQNYtoURciDpJf6w  Le Comptoir de la Gastronomie  Restaurants   \n",
       "3  FFz-WusZrBYZexKqhqzCkg               L'As du Fallafel  Restaurants   \n",
       "4  FFz-WusZrBYZexKqhqzCkg               L'As du Fallafel  Restaurants   \n",
       "\n",
       "                review_id  stars  \\\n",
       "0  pTbFq-jfZRlkP_2ZjQeYNQ      5   \n",
       "1  zi9OVQcGzeHJ6_T6jRrwkQ      5   \n",
       "2  ZwzpceATTrUM7Brv90_usg      5   \n",
       "3  bUWPuqCtUDkGV2jwawAlqQ      5   \n",
       "4  xdN-zosusXBS0z5ak7O9jg      4   \n",
       "\n",
       "                                                text  \n",
       "0  I fell in love with French onion soup because ...  \n",
       "1  If you like all things duck, then this is your...  \n",
       "2  If you like foie gras and duck, then you will ...  \n",
       "3  This little gem is our go to spot when visitin...  \n",
       "4  Great spot for a meal on the go that ends up b...  "
      ]
     },
     "execution_count": 45,
     "metadata": {},
     "output_type": "execute_result"
    }
   ],
   "source": [
    "new_df = pd.read_csv('paris_reviews.csv')\n",
    "new_df.head()"
   ]
  }
 ],
 "metadata": {
  "kernelspec": {
   "display_name": "Python 3 (ipykernel)",
   "language": "python",
   "name": "python3"
  },
  "language_info": {
   "codemirror_mode": {
    "name": "ipython",
    "version": 3
   },
   "file_extension": ".py",
   "mimetype": "text/x-python",
   "name": "python",
   "nbconvert_exporter": "python",
   "pygments_lexer": "ipython3",
   "version": "3.9.13"
  }
 },
 "nbformat": 4,
 "nbformat_minor": 5
}
